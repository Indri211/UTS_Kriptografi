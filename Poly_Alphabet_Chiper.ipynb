{
  "nbformat": 4,
  "nbformat_minor": 0,
  "metadata": {
    "colab": {
      "provenance": [],
      "authorship_tag": "ABX9TyPS0Kp9bP2tfxnJwnvigZ52",
      "include_colab_link": true
    },
    "kernelspec": {
      "name": "python3",
      "display_name": "Python 3"
    },
    "language_info": {
      "name": "python"
    }
  },
  "cells": [
    {
      "cell_type": "markdown",
      "metadata": {
        "id": "view-in-github",
        "colab_type": "text"
      },
      "source": [
        "<a href=\"https://colab.research.google.com/github/Indri211/UTS_Kriptografi/blob/main/Poly_Alphabet_Chiper.ipynb\" target=\"_parent\"><img src=\"https://colab.research.google.com/assets/colab-badge.svg\" alt=\"Open In Colab\"/></a>"
      ]
    },
    {
      "cell_type": "code",
      "execution_count": 10,
      "metadata": {
        "colab": {
          "base_uri": "https://localhost:8080/"
        },
        "id": "V1kBvowDiNFj",
        "outputId": "1d928e52-d31d-4f16-faaf-7fe156a1ca7c"
      },
      "outputs": [
        {
          "output_type": "stream",
          "name": "stdout",
          "text": [
            "Pesan terenkripsi: TXNAS UPCDJBR\n"
          ]
        }
      ],
      "source": [
        "def enkripsi_poli(plaintext, kunci1, kunci2):\n",
        "    ciphertext = \"\"\n",
        "    index = 0\n",
        "\n",
        "    for karakter in plaintext:\n",
        "        if karakter.isalpha():\n",
        "            if karakter.islower():\n",
        "                offset = ord('a')\n",
        "            else:\n",
        "                offset = ord('A')\n",
        "\n",
        "            if index % 2 == 0:\n",
        "                key = ord(kunci1[index % len(kunci1)]) - offset\n",
        "            else:\n",
        "                key = ord(kunci2[index % len(kunci2)]) - offset\n",
        "\n",
        "            encrypted_char = chr(((ord(karakter) - offset + key) % 26) + offset)\n",
        "            ciphertext += encrypted_char\n",
        "            index += 1\n",
        "        else:\n",
        "            ciphertext += karakter\n",
        "\n",
        "    return ciphertext\n",
        "\n",
        "# Contoh penggunaan\n",
        "pesan = \"INDRI LESTARI\"\n",
        "kunci1 = \"211010\"\n",
        "kunci2 = \"211010\"\n",
        "\n",
        "pesan_terenkripsi = enkripsi_poli(pesan, kunci1, kunci2)\n",
        "print(\"Pesan terenkripsi:\", pesan_terenkripsi)"
      ]
    }
  ]
}
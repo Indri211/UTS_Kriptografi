{
  "nbformat": 4,
  "nbformat_minor": 0,
  "metadata": {
    "colab": {
      "provenance": [],
      "authorship_tag": "ABX9TyNT9tvngrdQkQz0R47DaLCG",
      "include_colab_link": true
    },
    "kernelspec": {
      "name": "python3",
      "display_name": "Python 3"
    },
    "language_info": {
      "name": "python"
    }
  },
  "cells": [
    {
      "cell_type": "markdown",
      "metadata": {
        "id": "view-in-github",
        "colab_type": "text"
      },
      "source": [
        "<a href=\"https://colab.research.google.com/github/Indri211/UTS_Kriptografi/blob/main/Affine_Chiper.ipynb\" target=\"_parent\"><img src=\"https://colab.research.google.com/assets/colab-badge.svg\" alt=\"Open In Colab\"/></a>"
      ]
    },
    {
      "cell_type": "code",
      "execution_count": 1,
      "metadata": {
        "colab": {
          "base_uri": "https://localhost:8080/"
        },
        "id": "O8ACMlRonxs4",
        "outputId": "7126ac01-1fc7-49ff-8226-836522b6c6e9"
      },
      "outputs": [
        {
          "output_type": "stream",
          "name": "stdout",
          "text": [
            "Pesan Asli: INDRI LESTARI\n",
            "Pesan Terenkripsi: VUWOV KBTYHOV\n",
            "Pesan Terdekripsi: INDRI LESTARI\n"
          ]
        }
      ],
      "source": [
        "# Fungsi untuk menemukan invers modular\n",
        "def modInverse(a, m):\n",
        "    m0 = m\n",
        "    y = 0\n",
        "    x = 1\n",
        "\n",
        "    if m == 1:\n",
        "        return 0\n",
        "\n",
        "    while a > 1:\n",
        "        q = a // m\n",
        "        t = m\n",
        "\n",
        "        m = a % m\n",
        "        a = t\n",
        "        t = y\n",
        "\n",
        "        y = x - q * y\n",
        "        x = t\n",
        "\n",
        "    if x < 0:\n",
        "        x = x + m0\n",
        "\n",
        "    return x\n",
        "\n",
        "# Fungsi untuk mengenkripsi pesan\n",
        "def encrypt(text, key):\n",
        "    result = \"\"\n",
        "\n",
        "    # Mengambil nilai a dan b dari kunci\n",
        "    a = key[0]\n",
        "    b = key[1]\n",
        "\n",
        "    for char in text:\n",
        "        if char.isalpha():\n",
        "            # Mengenkripsi hanya huruf alfabet\n",
        "            if char.islower():\n",
        "                result += chr(((a * (ord(char) - ord('a')) + b) % 26) + ord('a'))\n",
        "            else:\n",
        "                result += chr(((a * (ord(char) - ord('A')) + b) % 26) + ord('A'))\n",
        "        else:\n",
        "            result += char\n",
        "\n",
        "    return result\n",
        "\n",
        "# Fungsi untuk mendekripsi pesan\n",
        "def decrypt(text, key):\n",
        "    result = \"\"\n",
        "\n",
        "    a = key[0]\n",
        "    b = key[1]\n",
        "    a_inv = modInverse(a, 26) # Menghitung invers modular dari a\n",
        "\n",
        "    for char in text:\n",
        "        if char.isalpha():\n",
        "            if char.islower():\n",
        "                result += chr(((a_inv * (ord(char) - ord('a') - b)) % 26) + ord('a'))\n",
        "            else:\n",
        "                result += chr(((a_inv * (ord(char) - ord('A') - b)) % 26) + ord('A'))\n",
        "        else:\n",
        "            result += char\n",
        "\n",
        "    return result\n",
        "\n",
        "# Contoh penggunaan\n",
        "pesan = \"INDRI LESTARI\"\n",
        "kunci = (5, 7)  # Nilai a dan b\n",
        "\n",
        "pesan_terenkripsi = encrypt(pesan, kunci)\n",
        "pesan_terdekripsi = decrypt(pesan_terenkripsi, kunci)\n",
        "\n",
        "print(\"Pesan Asli:\", pesan)\n",
        "print(\"Pesan Terenkripsi:\", pesan_terenkripsi)\n",
        "print(\"Pesan Terdekripsi:\", pesan_terdekripsi)"
      ]
    }
  ]
}